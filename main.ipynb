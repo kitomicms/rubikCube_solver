{
 "cells": [
  {
   "cell_type": "code",
   "execution_count": 52,
   "id": "f8dd0260-88db-4c55-bed6-30276de2673a",
   "metadata": {},
   "outputs": [],
   "source": [
    "# model the cube\n",
    "\n",
    "color = ['red','green','blue','yellow','white','orange']\n",
    "\n",
    "#cube = [[x]*9 for x in color]\n"
   ]
  },
  {
   "cell_type": "code",
   "execution_count": 53,
   "id": "748cf537-d820-46b5-ba4a-71045555228d",
   "metadata": {},
   "outputs": [],
   "source": [
    "# method to rotate the cube\n",
    "\n",
    "import copy\n",
    "import random\n",
    "\n",
    "\n",
    "class cube:\n",
    "    def __init__(self):\n",
    "        self.color = ['r','g','b','y','w','o']\n",
    "\n",
    "        self.cube = [[x]*9 for x in self.color]\n",
    "    \n",
    "    def move(self,move):\n",
    "        if move[:-1] == 'right':\n",
    "            for n in range(move[-1]):\n",
    "                self.right()\n",
    "        elif move[:-1] == 'left':\n",
    "            for n in range(move[-1]):\n",
    "                self.left()\n",
    "        else:\n",
    "            pass\n",
    "        \n",
    "    def right(self):\n",
    "        cube = copy.deepcopy(self.cube)\n",
    "\n",
    "        side1,side2,side3,side4,side5 = 0,4,2,5,1\n",
    "        self.cube[side1][2],self.cube[side1][5],self.cube[side1][8] = cube[side4][2],cube[side4][5],cube[side4][8]\n",
    "        self.cube[side2][2],self.cube[side2][5],self.cube[side2][8] = cube[side1][2],cube[side1][5],cube[side1][8]\n",
    "        self.cube[side3][2],self.cube[side3][5],self.cube[side3][8] = cube[side2][2],cube[side2][5],cube[side2][8]\n",
    "        self.cube[side4][2],self.cube[side4][5],self.cube[side4][8] = cube[side3][2],cube[side3][5],cube[side3][8]\n",
    "        \n",
    "        # side\n",
    "        self.cube[side5][0],self.cube[side5][1],self.cube[side5][2]= cube[side5][6],cube[side5][3],cube[side5][0]\n",
    "        self.cube[side5][3],self.cube[side5][4],self.cube[side5][5]= cube[side5][2],cube[side5][4],cube[side5][1]\n",
    "        self.cube[side5][6],self.cube[side5][7],self.cube[side5][8]= cube[side5][8],cube[side5][5],cube[side5][2]\n",
    "\n",
    "    def left(self):\n",
    "        cube = copy.deepcopy(self.cube)\n",
    "\n",
    "        side1,side2,side3,side4,side5 = 2,4,0,5,3\n",
    "        \n",
    "        self.cube[side1][0],self.cube[side1][3],self.cube[side1][6] = cube[side4][0],cube[side4][3],cube[side4][6]\n",
    "        self.cube[side2][0],self.cube[side2][3],self.cube[side2][6] = cube[side1][0],cube[side1][3],cube[side1][6]\n",
    "        self.cube[side3][0],self.cube[side3][3],self.cube[side3][6] = cube[side2][0],cube[side2][3],cube[side2][6]\n",
    "        self.cube[side4][0],self.cube[side4][3],self.cube[side4][6] = cube[side3][0],cube[side3][3],cube[side3][6]\n",
    "        \n",
    "        # side\n",
    "        self.cube[side5][0],self.cube[side5][1],self.cube[side5][2]= cube[side5][6],cube[side5][3],cube[side5][0]\n",
    "        self.cube[side5][3],self.cube[side5][4],self.cube[side5][5]= cube[side5][2],cube[side5][4],cube[side5][1]\n",
    "        self.cube[side5][6],self.cube[side5][7],self.cube[side5][8]= cube[side5][8],cube[side5][5],cube[side5][2]    \n",
    "    \n",
    "        \n",
    "    def random_moves(self,number):\n",
    "        moves = []\n",
    "        times = 3\n",
    "        move_types = ['right','left']\n",
    "        for n in range(1,number+1):\n",
    "            moves.append(move_types[random.randint(0,len(move_types)-1)] + str(random.randint(1,times)))\n",
    "            \n",
    "        return moves\n",
    "            \n",
    "        \n",
    "#     def right(self):\n",
    "#         self.move(0,4,2,5,1)\n",
    "        \n",
    "#     def left(self):\n",
    "#         self.move(2,4,0,5,3)\n",
    "    \n",
    "    def front(self):\n",
    "        cube = copy.deepcopy(self.cube)\n",
    "\n",
    "        side1,side2,side3,side4,side5 = 1,5,3,4,0\n",
    "        \n",
    "        self.cube[side1][0],self.cube[side1][3],self.cube[side1][6] = cube[side4][0],cube[side4][3],cube[side4][6]\n",
    "        self.cube[side2][0],self.cube[side2][3],self.cube[side2][6] = cube[side1][0],cube[side1][3],cube[side1][6]\n",
    "        self.cube[side3][0],self.cube[side3][3],self.cube[side3][6] = cube[side2][0],cube[side2][3],cube[side2][6]\n",
    "        self.cube[side4][0],self.cube[side4][3],self.cube[side4][6] = cube[side3][0],cube[side3][3],cube[side3][6]\n",
    "        \n",
    "        # side\n",
    "        self.cube[side5][0],self.cube[side5][1],self.cube[side5][2]= cube[side5][6],cube[side5][3],cube[side5][0]\n",
    "        self.cube[side5][3],self.cube[side5][4],self.cube[side5][5]= cube[side5][2],cube[side5][4],cube[side5][1]\n",
    "        self.cube[side5][6],self.cube[side5][7],self.cube[side5][8]= cube[side5][8],cube[side5][5],cube[side5][2]\n",
    "        \n",
    "#     def back(self):\n",
    "#         self.move(1,4,3,5,2)\n",
    "           \n",
    "#     def top(self):\n",
    "#         self.move(0,3,2,1,4)\n",
    "        \n",
    "#     def bottom(self):\n",
    "#         self.move(0,1,2,3,5)\n",
    "    \n",
    "    def show(self):\n",
    "        print(self.cube)\n"
   ]
  },
  {
   "cell_type": "code",
   "execution_count": 56,
   "id": "2df7b5c2-bd1f-49e8-a7b7-3c947f919461",
   "metadata": {},
   "outputs": [
    {
     "name": "stdout",
     "output_type": "stream",
     "text": [
      "[['r', 'r', 'r', 'r', 'r', 'r', 'r', 'r', 'r'], ['g', 'g', 'g', 'g', 'g', 'g', 'g', 'g', 'g'], ['b', 'b', 'b', 'b', 'b', 'b', 'b', 'b', 'b'], ['y', 'y', 'y', 'y', 'y', 'y', 'y', 'y', 'y'], ['w', 'w', 'w', 'w', 'w', 'w', 'w', 'w', 'w'], ['o', 'o', 'o', 'o', 'o', 'o', 'o', 'o', 'o']]\n"
     ]
    }
   ],
   "source": [
    "new_cube = cube()\n",
    "#cube.right()\n",
    "new_cube.show()"
   ]
  },
  {
   "cell_type": "code",
   "execution_count": 44,
   "id": "f8b0d763-a66a-45e6-a776-8a3f38ccbbb7",
   "metadata": {},
   "outputs": [
    {
     "name": "stdout",
     "output_type": "stream",
     "text": [
      "0\n"
     ]
    }
   ],
   "source": [
    "random_moves = new_cube()"
   ]
  },
  {
   "cell_type": "code",
   "execution_count": 23,
   "id": "3ef65f36-8130-4587-974b-19d6d4775404",
   "metadata": {},
   "outputs": [
    {
     "name": "stdout",
     "output_type": "stream",
     "text": [
      "0\n",
      "1\n",
      "2\n"
     ]
    }
   ],
   "source": [
    "for n in range(3):\n",
    "    print(n)"
   ]
  },
  {
   "cell_type": "code",
   "execution_count": 42,
   "id": "01174dcd-263f-4e23-bbbb-971736298522",
   "metadata": {},
   "outputs": [
    {
     "data": {
      "text/plain": [
       "'right'"
      ]
     },
     "execution_count": 42,
     "metadata": {},
     "output_type": "execute_result"
    }
   ],
   "source": [
    "'right3'[:-1]"
   ]
  },
  {
   "cell_type": "code",
   "execution_count": null,
   "id": "833ea790-c4f9-4da4-b0ca-f1f24292fed1",
   "metadata": {},
   "outputs": [],
   "source": []
  },
  {
   "cell_type": "code",
   "execution_count": null,
   "id": "6baa5b49-fa50-45bb-a0a8-96eb16a724db",
   "metadata": {},
   "outputs": [],
   "source": []
  }
 ],
 "metadata": {
  "kernelspec": {
   "display_name": "Python 3 (ipykernel)",
   "language": "python",
   "name": "python3"
  },
  "language_info": {
   "codemirror_mode": {
    "name": "ipython",
    "version": 3
   },
   "file_extension": ".py",
   "mimetype": "text/x-python",
   "name": "python",
   "nbconvert_exporter": "python",
   "pygments_lexer": "ipython3",
   "version": "3.9.6"
  }
 },
 "nbformat": 4,
 "nbformat_minor": 5
}
